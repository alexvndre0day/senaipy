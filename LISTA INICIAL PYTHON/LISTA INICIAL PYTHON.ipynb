{
  "nbformat": 4,
  "nbformat_minor": 0,
  "metadata": {
    "colab": {
      "provenance": [],
      "toc_visible": true
    },
    "kernelspec": {
      "name": "python3",
      "display_name": "Python 3"
    },
    "language_info": {
      "name": "python"
    }
  },
  "cells": [
    {
      "cell_type": "markdown",
      "source": [
        "# SEMANA 1 - PYTHON"
      ],
      "metadata": {
        "id": "v7T1XDG6s-u-"
      }
    },
    {
      "cell_type": "code",
      "source": [
        "# ex 1\n",
        "total = 0\n",
        "while total < 50:\n",
        "  numero = int(input(\"Digite seu número:\"))\n",
        "  total += numero\n",
        "  print(f\"O total é: {total}\")\n",
        "\n",
        "print(\"Valor ultrapassou 50. Encerrando......\")"
      ],
      "metadata": {
        "id": "aun67H1Hs4a-",
        "colab": {
          "base_uri": "https://localhost:8080/",
          "height": 356
        },
        "outputId": "29ae5b6c-09a1-40da-f49f-72ee09cc6ead"
      },
      "execution_count": 1,
      "outputs": [
        {
          "output_type": "error",
          "ename": "KeyboardInterrupt",
          "evalue": "Interrupted by user",
          "traceback": [
            "\u001b[0;31m---------------------------------------------------------------------------\u001b[0m",
            "\u001b[0;31mKeyboardInterrupt\u001b[0m                         Traceback (most recent call last)",
            "\u001b[0;32m<ipython-input-1-a0213e29dd8f>\u001b[0m in \u001b[0;36m<cell line: 3>\u001b[0;34m()\u001b[0m\n\u001b[1;32m      2\u001b[0m \u001b[0mtotal\u001b[0m \u001b[0;34m=\u001b[0m \u001b[0;36m0\u001b[0m\u001b[0;34m\u001b[0m\u001b[0;34m\u001b[0m\u001b[0m\n\u001b[1;32m      3\u001b[0m \u001b[0;32mwhile\u001b[0m \u001b[0mtotal\u001b[0m \u001b[0;34m<\u001b[0m \u001b[0;36m50\u001b[0m\u001b[0;34m:\u001b[0m\u001b[0;34m\u001b[0m\u001b[0;34m\u001b[0m\u001b[0m\n\u001b[0;32m----> 4\u001b[0;31m   \u001b[0mnumero\u001b[0m \u001b[0;34m=\u001b[0m \u001b[0mint\u001b[0m\u001b[0;34m(\u001b[0m\u001b[0minput\u001b[0m\u001b[0;34m(\u001b[0m\u001b[0;34m\"Digite seu número:\"\u001b[0m\u001b[0;34m)\u001b[0m\u001b[0;34m)\u001b[0m\u001b[0;34m\u001b[0m\u001b[0;34m\u001b[0m\u001b[0m\n\u001b[0m\u001b[1;32m      5\u001b[0m   \u001b[0mtotal\u001b[0m \u001b[0;34m+=\u001b[0m \u001b[0mnumero\u001b[0m\u001b[0;34m\u001b[0m\u001b[0;34m\u001b[0m\u001b[0m\n\u001b[1;32m      6\u001b[0m   \u001b[0mprint\u001b[0m\u001b[0;34m(\u001b[0m\u001b[0;34mf\"O total é: {total}\"\u001b[0m\u001b[0;34m)\u001b[0m\u001b[0;34m\u001b[0m\u001b[0;34m\u001b[0m\u001b[0m\n",
            "\u001b[0;32m/usr/local/lib/python3.10/dist-packages/ipykernel/kernelbase.py\u001b[0m in \u001b[0;36mraw_input\u001b[0;34m(self, prompt)\u001b[0m\n\u001b[1;32m    849\u001b[0m                 \u001b[0;34m\"raw_input was called, but this frontend does not support input requests.\"\u001b[0m\u001b[0;34m\u001b[0m\u001b[0;34m\u001b[0m\u001b[0m\n\u001b[1;32m    850\u001b[0m             )\n\u001b[0;32m--> 851\u001b[0;31m         return self._input_request(str(prompt),\n\u001b[0m\u001b[1;32m    852\u001b[0m             \u001b[0mself\u001b[0m\u001b[0;34m.\u001b[0m\u001b[0m_parent_ident\u001b[0m\u001b[0;34m,\u001b[0m\u001b[0;34m\u001b[0m\u001b[0;34m\u001b[0m\u001b[0m\n\u001b[1;32m    853\u001b[0m             \u001b[0mself\u001b[0m\u001b[0;34m.\u001b[0m\u001b[0m_parent_header\u001b[0m\u001b[0;34m,\u001b[0m\u001b[0;34m\u001b[0m\u001b[0;34m\u001b[0m\u001b[0m\n",
            "\u001b[0;32m/usr/local/lib/python3.10/dist-packages/ipykernel/kernelbase.py\u001b[0m in \u001b[0;36m_input_request\u001b[0;34m(self, prompt, ident, parent, password)\u001b[0m\n\u001b[1;32m    893\u001b[0m             \u001b[0;32mexcept\u001b[0m \u001b[0mKeyboardInterrupt\u001b[0m\u001b[0;34m:\u001b[0m\u001b[0;34m\u001b[0m\u001b[0;34m\u001b[0m\u001b[0m\n\u001b[1;32m    894\u001b[0m                 \u001b[0;31m# re-raise KeyboardInterrupt, to truncate traceback\u001b[0m\u001b[0;34m\u001b[0m\u001b[0;34m\u001b[0m\u001b[0m\n\u001b[0;32m--> 895\u001b[0;31m                 \u001b[0;32mraise\u001b[0m \u001b[0mKeyboardInterrupt\u001b[0m\u001b[0;34m(\u001b[0m\u001b[0;34m\"Interrupted by user\"\u001b[0m\u001b[0;34m)\u001b[0m \u001b[0;32mfrom\u001b[0m \u001b[0;32mNone\u001b[0m\u001b[0;34m\u001b[0m\u001b[0;34m\u001b[0m\u001b[0m\n\u001b[0m\u001b[1;32m    896\u001b[0m             \u001b[0;32mexcept\u001b[0m \u001b[0mException\u001b[0m \u001b[0;32mas\u001b[0m \u001b[0me\u001b[0m\u001b[0;34m:\u001b[0m\u001b[0;34m\u001b[0m\u001b[0;34m\u001b[0m\u001b[0m\n\u001b[1;32m    897\u001b[0m                 \u001b[0mself\u001b[0m\u001b[0;34m.\u001b[0m\u001b[0mlog\u001b[0m\u001b[0;34m.\u001b[0m\u001b[0mwarning\u001b[0m\u001b[0;34m(\u001b[0m\u001b[0;34m\"Invalid Message:\"\u001b[0m\u001b[0;34m,\u001b[0m \u001b[0mexc_info\u001b[0m\u001b[0;34m=\u001b[0m\u001b[0;32mTrue\u001b[0m\u001b[0;34m)\u001b[0m\u001b[0;34m\u001b[0m\u001b[0;34m\u001b[0m\u001b[0m\n",
            "\u001b[0;31mKeyboardInterrupt\u001b[0m: Interrupted by user"
          ]
        }
      ]
    },
    {
      "cell_type": "code",
      "source": [
        "# ex 2\n",
        "n1 = int(input(\"Digite o primero número:\"));\n",
        "n2 = int(input(\"Digite o segundo número:\"));\n",
        "n3 = int(input(\"Digite o terceiro número:\"));\n",
        "\n",
        "soma = n1+n2\n",
        "resultado = soma * n3\n",
        "print(resultado)"
      ],
      "metadata": {
        "id": "Z5Q6-mRQtNCn"
      },
      "execution_count": null,
      "outputs": []
    },
    {
      "cell_type": "code",
      "source": [
        "# ex 3\n",
        "n = int(input(\"Digite seu número:\"))\n",
        "if n < 10:\n",
        "  print(\"Muito baixo\")\n",
        "elif n >= 10 and n <= 20:\n",
        "  print(\"Correto\")\n",
        "else:\n",
        "  print(\"Muito alto\")"
      ],
      "metadata": {
        "id": "vgRIeRL-tPn_"
      },
      "execution_count": null,
      "outputs": []
    },
    {
      "cell_type": "code",
      "source": [
        "# ex 4\n",
        "n = int(input(\"Digite um número menor que 50:\"));\n",
        "for cont in range(50, n - 1, -1):\n",
        "    # imprimindo o contador\n",
        "    print(cont)"
      ],
      "metadata": {
        "id": "LxUDSVvhtUzP"
      },
      "execution_count": null,
      "outputs": []
    },
    {
      "cell_type": "code",
      "source": [
        "#ex 5\n",
        "import random\n",
        "print(\"Adivinhe o número aleatorio entre 1 e 5.\");\n",
        "random = random.randint(1, 5);\n",
        "numero = \"\";\n",
        "\n",
        "while numero != random:\n",
        "  numero = int(input(\"Digite o número:\"));\n",
        "  if numero != random:\n",
        "    if random > numero:\n",
        "      print(\"Errou, Número acima!\");\n",
        "    else:\n",
        "      print(\"Errou, Número abaixo\");\n",
        "  else:\n",
        "    print(\"Acertou!\");"
      ],
      "metadata": {
        "id": "uxHKb0yctaF3"
      },
      "execution_count": null,
      "outputs": []
    },
    {
      "cell_type": "markdown",
      "source": [
        "# SEMANA 2"
      ],
      "metadata": {
        "id": "tSPO-fHxqXqe"
      }
    },
    {
      "cell_type": "markdown",
      "source": [
        "EXEMPLO LISTA | MUTÁVEL\n",
        "\n",
        "    lista = [10, \"teste\", 42, 7]\n",
        "    print(lista)\n",
        "\n",
        "EXEMPLO TUPLA | IMUTÁVEL\n",
        "\n",
        "    Tupla = ('a', 'b', 'c')\n",
        "    type(Tupla)\n",
        "\n",
        "EXEMPLO DICIONARIO\n",
        "\n",
        "    dicionario = {\n",
        "      'nome': 'João',\n",
        "      'idade': 30,\n",
        "      'cidade': 'São Paulo',\n",
        "      'profissão:': 'Engenheiro'\n",
        "    }\n",
        "\n",
        "EXEMPLO FUNÇÃO\n",
        "\n",
        "    def soma(a, b):\n",
        "    return a + b\n",
        "    soma(3,5)"
      ],
      "metadata": {
        "id": "OWdtIk83tQlW"
      }
    },
    {
      "cell_type": "code",
      "source": [
        "# EX 1\n",
        "paises = ('Brasil', 'Argentina', 'Mexico', 'China', 'Japão')\n",
        "print(paises)\n",
        "escolha = input('Escolha um país: ')\n",
        "print(paises.index(escolha))"
      ],
      "metadata": {
        "id": "k-i8QULtvp-A"
      },
      "execution_count": null,
      "outputs": []
    },
    {
      "cell_type": "code",
      "source": [
        "#EX 2\n",
        "objetos = [\"Inglês\", \"Português\", \"Geografia\", \"Artes\", \"Biologia\", \"Quimica\"]\n",
        "print(objetos)\n",
        "materia = input(\"Escolha a materia que deseja retirar: \")\n",
        "objetos.remove(materia)\n",
        "print(objetos)"
      ],
      "metadata": {
        "id": "5asNH2K05jOA"
      },
      "execution_count": null,
      "outputs": []
    },
    {
      "cell_type": "code",
      "source": [
        "#EX 3\n",
        "numeros = [\"222\", \"333\", \"444\", \"555\"]\n",
        "for num in numeros:\n",
        "  print(num)\n",
        "escolha = input(\"Digite um número de 3 digitos: \")\n",
        "if escolha in numeros:\n",
        "  print(numeros.index(escolha))\n",
        "else:\n",
        "  print(\"Isso não está na lista!\")"
      ],
      "metadata": {
        "id": "owjMdtP66l8i"
      },
      "execution_count": null,
      "outputs": []
    },
    {
      "cell_type": "code",
      "source": [],
      "metadata": {
        "id": "lYMOPr0FpIyL"
      },
      "execution_count": null,
      "outputs": []
    },
    {
      "cell_type": "markdown",
      "source": [],
      "metadata": {
        "id": "D3oVfW08pPaE"
      }
    },
    {
      "cell_type": "markdown",
      "source": [
        "# SEMANA 3"
      ],
      "metadata": {
        "id": "oCbK6zH_pQqF"
      }
    },
    {
      "cell_type": "code",
      "source": [
        "#ex 1\n",
        "\n",
        "def conta_vogais(palavra):\n",
        "  palavra = palavra.lower()\n",
        "  result = {}\n",
        "  vogais = 'aeiou'\n",
        "  for i in vogais:\n",
        "    if i in palavra:\n",
        "      result[i] = palavra.count(i)\n",
        "  return result\n",
        "\n",
        "print(\"# CONTADOR DE VOGAIS #\" + '\\n')\n",
        "palavra = input(\"Insira sua palavra: \")\n",
        "\n",
        "conta_vogais(palavra)"
      ],
      "metadata": {
        "id": "cy68km6ppS90",
        "colab": {
          "base_uri": "https://localhost:8080/"
        },
        "outputId": "917c6beb-437f-4881-d0dd-2e665ef38904"
      },
      "execution_count": null,
      "outputs": [
        {
          "name": "stdout",
          "output_type": "stream",
          "text": [
            "# CONTADOR DE VOGAIS #\n",
            "\n",
            "Insira sua palavra: senai\n"
          ]
        },
        {
          "output_type": "execute_result",
          "data": {
            "text/plain": [
              "{'a': 1, 'e': 1, 'i': 1}"
            ]
          },
          "metadata": {},
          "execution_count": 41
        }
      ]
    },
    {
      "cell_type": "code",
      "source": [
        "#ex 2\n",
        "\n",
        "def verifica_par(num):\n",
        "  if num % 2 == 0:\n",
        "    print(\"Par\")\n",
        "  else:\n",
        "    print(\"Impar\")\n",
        "\n",
        "num = input('Digite seu número: ')\n",
        "\n",
        "verifica_par(int(num))\n",
        "\n"
      ],
      "metadata": {
        "id": "owr3yjY_wW17"
      },
      "execution_count": null,
      "outputs": []
    },
    {
      "cell_type": "code",
      "source": [
        "#ex 3\n",
        "def calcula_media(notas):\n",
        "  qtdNotas = len(notas)\n",
        "  somaNotas = sum(notas)\n",
        "  media = somaNotas / qtdNotas\n",
        "  print(\"# CALCULO DE MÉDIA #\" + '\\n')\n",
        "  print(\"Sua média é:\" + (str(media)))\n",
        "\n",
        "notas = [7, 8, 10, 6]\n",
        "\n",
        "calcula_media(notas)"
      ],
      "metadata": {
        "colab": {
          "base_uri": "https://localhost:8080/"
        },
        "id": "Y3FrW5BtySPY",
        "outputId": "c830832c-a2eb-4e91-c706-9164eb75f36a"
      },
      "execution_count": null,
      "outputs": [
        {
          "output_type": "stream",
          "name": "stdout",
          "text": [
            "# CALCULO DE MÉDIA #\n",
            "\n",
            "Sua média é:7.75\n"
          ]
        }
      ]
    },
    {
      "cell_type": "code",
      "source": [
        "#EXEMPLO CARRO\n",
        "\n",
        "class carro:\n",
        "\n",
        "  def __init__(self, modelo, cor, ano):\n",
        "    self.modelo = modelo\n",
        "    self.cor = cor\n",
        "    self.ano = ano\n",
        "    self.ligado = False\n",
        "\n",
        "\n",
        "  def ligar(self):\n",
        "    if not self.ligado:\n",
        "        self.ligado = True\n",
        "        print(f\"O carro {self.modelo} foi ligado.\")\n",
        "    else:\n",
        "        print(\"O carro já está ligado.\")\n",
        "\n",
        "  def acelerar(self, velocidade):\n",
        "    if self.ligado:\n",
        "      print(f\"O carro {self.modelo} está acelerando a {velocidade} km/h.\")\n",
        "    else:\n",
        "      print(\"Não é possivel acelerar, o carro está desligado.\")\n",
        "\n",
        "meu_carro = carro (\"Kia\", \"Preto\", 2008)\n",
        "\n",
        "meu_carro.ligar()\n",
        "meu_carro.acelerar(90)"
      ],
      "metadata": {
        "colab": {
          "base_uri": "https://localhost:8080/"
        },
        "id": "EHn-3wJWDYCD",
        "outputId": "89794157-e2f0-4836-f69d-059ab1fb56e6"
      },
      "execution_count": null,
      "outputs": [
        {
          "output_type": "stream",
          "name": "stdout",
          "text": [
            "O carro Kia foi ligado.\n",
            "O carro Kia está acelerando a 90 km/h.\n"
          ]
        }
      ]
    },
    {
      "cell_type": "code",
      "source": [
        "#ex Energia\n",
        "\n",
        "class Pessoa:\n",
        "    def __init__(self, nome, idade, altura, peso):\n",
        "        self.nome = nome\n",
        "        self.idade = idade\n",
        "        self.altura = altura\n",
        "        self.peso = peso\n",
        "        self.energia = 100\n",
        "\n",
        "    def dormir(self, horas):\n",
        "        print(f\"{self.nome} está dormindo...\")\n",
        "        self.energia += horas * 10\n",
        "        print(f\"{self.nome} dormiu {horas} horas e recarregou suas energias.\")\n",
        "\n",
        "    def comer(self, refeicao):\n",
        "        if self.energia < 100:\n",
        "            print(f\"{self.nome} está comendo {refeicao}...\")\n",
        "            self.energia += 20\n",
        "            print(f\"{self.nome} comeu e ganhou energia.\")\n",
        "        else:\n",
        "            print(f\"{self.nome} não está com fome agora.\")\n",
        "\n",
        "    def trabalhar(self, horas):\n",
        "        if self.energia > 0:\n",
        "            print(f\"{self.nome} está trabalhando por {horas} horas...\")\n",
        "            self.energia -= horas * 10\n",
        "            print(f\"{self.nome} trabalhou e ficou cansado.\")\n",
        "        else:\n",
        "            print(f\"{self.nome} está muito cansado para trabalhar agora.\")\n",
        "\n",
        "    def apresentar(self):\n",
        "        print(f\"Olá, meu nome é {self.nome}. Eu tenho {self.idade} anos, {self.altura}m de altura e peso {self.peso}kg e energia como {self.energia}\")\n",
        "\n",
        "pessoaUm = Pessoa (\"João\", \"25\", \"1,75\", \"70\")\n",
        "pessoaDois = Pessoa (\"Maria\", \"30\", \"1,60\", \"55\")\n",
        "\n",
        "pessoaUm.apresentar()\n",
        "pessoaUm.comer(\"Almoço\")\n",
        "pessoaUm.dormir(6)\n",
        "pessoaUm.trabalhar(3)\n",
        "pessoaDois.apresentar()\n",
        "pessoaDois.comer(\"Jantar\")\n",
        "pessoaUm.dormir(9)\n",
        "pessoaDois.trabalhar(5)\n",
        "pessoaUm.trabalhar(5)\n",
        "\n",
        "pessoaUm.apresentar()\n",
        "pessoaDois.apresentar()\n"
      ],
      "metadata": {
        "colab": {
          "base_uri": "https://localhost:8080/"
        },
        "id": "TQWerg9RPIQi",
        "outputId": "d137bc89-6157-4c4a-a085-16006d61ee11"
      },
      "execution_count": null,
      "outputs": [
        {
          "output_type": "stream",
          "name": "stdout",
          "text": [
            "Olá, meu nome é João. Eu tenho 25 anos, 1,75m de altura e peso 70kg e energia como 100\n",
            "João não está com fome agora.\n",
            "João está dormindo...\n",
            "João dormiu 6 horas e recarregou suas energias.\n",
            "João está trabalhando por 3 horas...\n",
            "João trabalhou e ficou cansado.\n",
            "Olá, meu nome é Maria. Eu tenho 30 anos, 1,60m de altura e peso 55kg e energia como 100\n",
            "Maria não está com fome agora.\n",
            "João está dormindo...\n",
            "João dormiu 9 horas e recarregou suas energias.\n",
            "Maria está trabalhando por 5 horas...\n",
            "Maria trabalhou e ficou cansado.\n",
            "João está trabalhando por 5 horas...\n",
            "João trabalhou e ficou cansado.\n",
            "Olá, meu nome é João. Eu tenho 25 anos, 1,75m de altura e peso 70kg e energia como 170\n",
            "Olá, meu nome é Maria. Eu tenho 30 anos, 1,60m de altura e peso 55kg e energia como 50\n"
          ]
        }
      ]
    }
  ]
}